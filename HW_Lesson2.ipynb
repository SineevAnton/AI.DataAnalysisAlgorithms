{
 "cells": [
  {
   "cell_type": "markdown",
   "metadata": {},
   "source": [
    "## Урок 2. Масштабирование признаков. L1- и L2-регуляризация. Стохастический градиентный спуск\n",
    "___"
   ]
  },
  {
   "cell_type": "code",
   "execution_count": 1,
   "metadata": {
    "colab": {},
    "colab_type": "code",
    "id": "_u5bV-OlT34p"
   },
   "outputs": [],
   "source": [
    "import numpy as np\n",
    "import matplotlib.pyplot as plt\n",
    "from tqdm import tqdm\n",
    "import warnings\n",
    "warnings.filterwarnings('ignore')"
   ]
  },
  {
   "cell_type": "markdown",
   "metadata": {},
   "source": [
    "### 1. Напишите функцию наподобие gradient_descent_reg_l2, но для применения L1-регуляризации.\n",
    "___"
   ]
  },
  {
   "cell_type": "code",
   "execution_count": 2,
   "outputs": [],
   "source": [
    "X = np.array([[   1,    1,  500,    1],\n",
    "              [   1,    1,  700,    1],\n",
    "              [   1,    2,  750,    2],\n",
    "              [   1,    5,  600,    1],\n",
    "              [   1,    3, 1450,    2],\n",
    "              [   1,    0,  800,    1],\n",
    "              [   1,    5, 1500,    3],\n",
    "              [   1,   10, 2000,    3],\n",
    "              [   1,    1,  450,    1],\n",
    "              [   1,    2, 1000,    2]])"
   ],
   "metadata": {
    "collapsed": false
   }
  },
  {
   "cell_type": "code",
   "execution_count": 3,
   "outputs": [],
   "source": [
    "y = [45, 55, 50, 55, 60, 35, 75, 80, 50, 60]"
   ],
   "metadata": {
    "collapsed": false
   }
  },
  {
   "cell_type": "code",
   "execution_count": 4,
   "outputs": [],
   "source": [
    "def standard_scale(X):\n",
    "    mean = X.mean(axis=0)\n",
    "    std = X.std(axis=0)\n",
    "    return (X - mean) / std"
   ],
   "metadata": {
    "collapsed": false
   }
  },
  {
   "cell_type": "code",
   "execution_count": 5,
   "outputs": [],
   "source": [
    "X_st = X.copy().astype(np.float64)\n",
    "X_st[:, 1:4] = standard_scale(X_st[:, 1:4])"
   ],
   "metadata": {
    "collapsed": false
   }
  },
  {
   "cell_type": "code",
   "execution_count": 6,
   "outputs": [],
   "source": [
    "# функция рассчета mean squared error\n",
    "def calc_mse(y, y_pred):\n",
    "    err = np.mean((y - y_pred) ** 2)\n",
    "    return err"
   ],
   "metadata": {
    "collapsed": false
   }
  },
  {
   "cell_type": "code",
   "execution_count": 7,
   "outputs": [],
   "source": [
    "# L2 регуляризация (оригинал)\n",
    "def gradient_descent_reg_l2(X, y, iterations, eta=1e-4, reg=1e-8):\n",
    "    W = np.random.randn(X.shape[1]) # Вектор весов\n",
    "    n = X.shape[0]\n",
    "\n",
    "    for i in range(0, iterations):\n",
    "        y_pred = np.dot(X, W)\n",
    "        err = calc_mse(y, y_pred)\n",
    "\n",
    "        dQ = 2/n * X.T @ (y_pred - y) #градиент функции ошибки\n",
    "        dReg = reg * W #градиент регуляризации\n",
    "\n",
    "        W -= eta * (dQ + dReg)\n",
    "\n",
    "        if i % (iterations / 10) == 0:\n",
    "            print(f\"Iter: {i}, weigths: {W}, error {err}.\")\n",
    "\n",
    "    print(f\"Final MSE: {calc_mse(y, np.dot(X,W))}\")\n",
    "    return W"
   ],
   "metadata": {
    "collapsed": false
   }
  },
  {
   "cell_type": "code",
   "execution_count": 8,
   "outputs": [
    {
     "name": "stdout",
     "output_type": "stream",
     "text": [
      "Iter: 0, weigths: [-0.1633611  -2.40591186  1.47869294  1.05103034], error 3518.513772186193.\n",
      "Iter: 500, weigths: [56.49767516  5.75054511  1.41677407  5.28443089], error 25.439562852458245.\n",
      "Iter: 1000, weigths: [56.49999962  6.16539179  0.26262739  6.06957617], error 24.971685846589203.\n",
      "Iter: 1500, weigths: [56.49999972  6.2566595  -0.13456245  6.3888445 ], error 24.913302082814436.\n",
      "Iter: 2000, weigths: [56.49999972  6.28654011 -0.2765945   6.50563834], error 24.90574384323549.\n",
      "Iter: 2500, weigths: [56.49999972  6.29714339 -0.32766999  6.54777329], error 24.904764626464402.\n",
      "Iter: 3000, weigths: [56.49999972  6.30095217 -0.34605174  6.56294432], error 24.90463776038663.\n",
      "Iter: 3500, weigths: [56.49999972  6.30232272 -0.35266797  6.56840525], error 24.90462132358161.\n",
      "Iter: 4000, weigths: [56.49999972  6.30281601 -0.35504942  6.57037088], error 24.904619193955217.\n",
      "Iter: 4500, weigths: [56.49999972  6.30299357 -0.35590661  6.57107839], error 24.904618918006292.\n",
      "Final MSE: 24.904618882240907\n"
     ]
    },
    {
     "data": {
      "text/plain": "array([56.49999972,  6.3030574 , -0.35621479,  6.57133276])"
     },
     "execution_count": 8,
     "metadata": {},
     "output_type": "execute_result"
    }
   ],
   "source": [
    "gradient_descent_reg_l2(X_st, y, iterations=5000, eta=0.01, reg=1e-8)\n",
    "# одинаковое для eta=0.01 и eta=0.1 при reg=1e-4\n",
    "# одинаковое от reg=1e-8 до reg=1e-4 при eta=0.01"
   ],
   "metadata": {
    "collapsed": false
   }
  },
  {
   "cell_type": "code",
   "execution_count": 9,
   "metadata": {},
   "outputs": [],
   "source": [
    "# L1-регуляризация\n",
    "def gradient_descent_reg_l1(X, y, iterations, eta=1e-4, reg=1e-8):\n",
    "    W = np.random.randn(X.shape[1])\n",
    "    n = X.shape[0]\n",
    "    \n",
    "    for i in range(0, iterations):\n",
    "        y_pred = np.dot(X, W)\n",
    "        err = calc_mse(y, y_pred)\n",
    "        \n",
    "        dQ = 2/n * X.T @ (y_pred - y) # градиент функции ошибки\n",
    "        dReg = reg * np.sign(W) # градиент регуляризации, отличие от L2\n",
    "        # np.sign возвращает -1 if x < 0, 0 if x==0, 1 if x > 0 . nan возвращается для входов nan.\n",
    "        \n",
    "        W -= eta * (dQ + dReg)\n",
    "        \n",
    "        if i % (iterations / 10) == 0:\n",
    "            print(f'Iter: {i}, weights: {W}, error {err}')\n",
    "    \n",
    "    print(f'Final MSE: {calc_mse(y, np.dot(X, W))}')\n",
    "    return W"
   ]
  },
  {
   "cell_type": "code",
   "execution_count": 10,
   "metadata": {},
   "outputs": [
    {
     "name": "stdout",
     "output_type": "stream",
     "text": [
      "Iter: 0, weights: [11.56418408  2.14705105  2.14111233  2.97327293], error 3279.8414452958214\n",
      "Iter: 500, weights: [56.4999995   6.30306624 -0.35626109  6.57137155], error 24.90461887988879\n",
      "Iter: 1000, weights: [56.4999995   6.30309147 -0.35638289  6.57147208], error 24.904618876914792\n",
      "Iter: 1500, weights: [56.4999995   6.30309147 -0.3563829   6.57147208], error 24.90461887691479\n",
      "Iter: 2000, weights: [56.4999995   6.30309147 -0.3563829   6.57147208], error 24.904618876914785\n",
      "Iter: 2500, weights: [56.4999995   6.30309147 -0.3563829   6.57147208], error 24.904618876914785\n",
      "Iter: 3000, weights: [56.4999995   6.30309147 -0.3563829   6.57147208], error 24.904618876914785\n",
      "Iter: 3500, weights: [56.4999995   6.30309147 -0.3563829   6.57147208], error 24.904618876914785\n",
      "Iter: 4000, weights: [56.4999995   6.30309147 -0.3563829   6.57147208], error 24.904618876914785\n",
      "Iter: 4500, weights: [56.4999995   6.30309147 -0.3563829   6.57147208], error 24.904618876914785\n",
      "Final MSE: 24.904618876914785\n"
     ]
    },
    {
     "data": {
      "text/plain": "array([56.4999995 ,  6.30309147, -0.3563829 ,  6.57147208])"
     },
     "execution_count": 10,
     "metadata": {},
     "output_type": "execute_result"
    }
   ],
   "source": [
    "gradient_descent_reg_l1(X_st, y, iterations=5000, eta=0.1, reg=1e-6)\n",
    "# чувствительность к изменению параметров (в рамках нашего примера) почти такая же, как и для L2\n",
    "# описанное выше. Но для eta=0.1 и eta=0.01 уже есть небольшое различие в финальной ошибке"
   ]
  },
  {
   "cell_type": "markdown",
   "metadata": {},
   "source": [
    "### 2. Можно ли к одному и тому же признаку применить сразу и нормализацию, и стандартизацию?\n",
    "___"
   ]
  },
  {
   "cell_type": "markdown",
   "source": [
    "Имеем определения из семинара:\n",
    "**Нормализация**: приведение признаков к масштабу [0..1]\n",
    "**Стандартизация** заключается в получении, своего рода, значение сдвига каждого признака от среднего.\n",
    "Таким образом, математически, одновременно применять эти два подхода, возможно.\n",
    "Однако:\n",
    "а) поиск информации в сети привел к тому, что стоит использовать один из методов\n",
    "б) возвращаясь к семинару:\n",
    "- Нормализовать полезно признаки, опирающиеся на величину значений, такие как расстояния (knn, k-mean)\n",
    "- Стандартизировать полезно признаки для моделей, которые опираются на распределение (линейные модели)\n",
    "- Если неясно что делать - создаем копию данных, для каждого набора используем свой метод и сравниваем результаты.\n",
    "Последняя фраза сама за себя говорит, что одновременно не стоит использовать нормализацию и стандартизацию."
   ],
   "metadata": {
    "collapsed": false
   }
  },
  {
   "cell_type": "markdown",
   "metadata": {
    "id": "osNM_LLkiqu6"
   },
   "source": [
    "### 3. Сгенерируйте датасет при помощи <code>sklearn.datasets.make_regression</code> и обучите линейную модель при помощи градиентного и стохастического градиентного спуска. Нанесите среднеквадратичную ошибку для обоих методов на один график, сделайте выводы о разнице скорости сходимости каждого из методов.\n",
    "___"
   ]
  },
  {
   "cell_type": "code",
   "execution_count": 11,
   "metadata": {},
   "outputs": [
    {
     "data": {
      "text/plain": "array([[-0.71760732, -1.09367119, -0.73597009, ..., -0.09194752,\n         0.77271648, -0.5294093 ],\n       [-0.21856062, -0.43937009,  1.17601766, ..., -0.44205731,\n         0.65967443, -0.5364636 ],\n       [-0.09232329, -0.04777714,  0.58128624, ..., -0.64041891,\n         1.29076796, -0.34530826],\n       ...,\n       [-0.1724219 ,  1.20477844,  0.77081956, ...,  1.78646758,\n        -0.59041036, -0.6747931 ],\n       [ 0.93830193, -0.05266006,  1.45767292, ..., -1.01765261,\n         0.02393901,  1.37086726],\n       [-0.99582701,  1.30720547, -0.04855569, ...,  1.85683052,\n        -0.26133944,  0.50888458]])"
     },
     "metadata": {},
     "output_type": "display_data"
    },
    {
     "data": {
      "text/plain": "array([-136.72114621,   43.03006872,   47.20016397, ..., -271.90546582,\n        161.69583213,  382.5398616 ])"
     },
     "metadata": {},
     "output_type": "display_data"
    },
    {
     "data": {
      "text/plain": "array([8.03590530e+00, 9.63394753e+00, 0.00000000e+00, 0.00000000e+00,\n       0.00000000e+00, 7.86058430e+01, 0.00000000e+00, 0.00000000e+00,\n       9.61298231e+01, 5.95379955e+01, 0.00000000e+00, 3.30583257e+01,\n       3.71965212e+01, 6.59198012e-02, 0.00000000e+00, 0.00000000e+00,\n       0.00000000e+00, 2.78539772e+01, 0.00000000e+00, 7.36381949e+01])"
     },
     "metadata": {},
     "output_type": "display_data"
    }
   ],
   "source": [
    "from sklearn import datasets\n",
    "\n",
    "X, Y, coef = datasets.make_regression(n_samples=100000, n_features=20, n_informative=10, n_targets=1,\n",
    "                                      noise=1, coef=True, random_state=2)\n",
    "display(X, Y, coef)"
   ]
  },
  {
   "cell_type": "code",
   "execution_count": 12,
   "metadata": {},
   "outputs": [],
   "source": [
    "X = standard_scale(X)"
   ]
  },
  {
   "cell_type": "code",
   "execution_count": 13,
   "metadata": {},
   "outputs": [
    {
     "data": {
      "text/plain": "array([ 1.10855471e-03, -2.89544069e-01, -1.11606630e+00, -1.28827567e-02,\n       -3.78361464e-01, -4.81135363e-01, -1.51733118e+00, -4.90871981e-01,\n       -2.40680579e-01, -6.47947460e-01,  6.35891080e-01,  1.74011731e+00,\n        2.96682218e-01,  7.07503662e-01,  1.82281576e+00,  4.30769029e-01,\n        1.54272963e+00, -9.00721171e-01, -1.37125010e-01,  1.29757901e+00])"
     },
     "execution_count": 13,
     "metadata": {},
     "output_type": "execute_result"
    }
   ],
   "source": [
    "np.random.seed(9)\n",
    "init_W = np.random.randn(X.shape[1])\n",
    "# функция далее будет менять init_W, поэтому для SGD сразу создадим копию весов\n",
    "init_W2 = init_W.copy()\n",
    "init_W"
   ]
  },
  {
   "cell_type": "code",
   "execution_count": 14,
   "outputs": [
    {
     "data": {
      "text/plain": "array([ 1.10855471e-03, -2.89544069e-01, -1.11606630e+00, -1.28827567e-02,\n       -3.78361464e-01, -4.81135363e-01, -1.51733118e+00, -4.90871981e-01,\n       -2.40680579e-01, -6.47947460e-01,  6.35891080e-01,  1.74011731e+00,\n        2.96682218e-01,  7.07503662e-01,  1.82281576e+00,  4.30769029e-01,\n        1.54272963e+00, -9.00721171e-01, -1.37125010e-01,  1.29757901e+00])"
     },
     "execution_count": 14,
     "metadata": {},
     "output_type": "execute_result"
    }
   ],
   "source": [
    "init_W2"
   ],
   "metadata": {
    "collapsed": false
   }
  },
  {
   "cell_type": "code",
   "execution_count": 15,
   "metadata": {},
   "outputs": [],
   "source": [
    "# стохастический градиентный спуск\n",
    "def stohastic_gradient_descent(W, X, Y, iterations, eta=1e-4, size=1):\n",
    "    #n = X.shape[0]\n",
    "    \n",
    "    errors = []\n",
    "    w_list = [W.copy()]\n",
    "    for i in range(0, iterations):\n",
    "        train_ind = np.random.randint(X.shape[0], size=size)\n",
    "\n",
    "        y_pred = np.dot(X[train_ind], W)\n",
    "        W = W - eta * 2 / Y[train_ind].shape[0] * np.dot(X[train_ind].T, y_pred - Y[train_ind])\n",
    "\n",
    "        error = calc_mse(Y, np.dot(X, W))\n",
    "        errors.append(error)\n",
    "        w_list.append(W)\n",
    "        \n",
    "        if i % (iterations / 10) == 0:\n",
    "            print(f'Iter: {i}, error {error}')\n",
    "    \n",
    "    print(f'Final MSE: {calc_mse(Y, np.dot(X, W))}')\n",
    "    return W, errors, w_list"
   ]
  },
  {
   "cell_type": "code",
   "execution_count": 16,
   "metadata": {},
   "outputs": [],
   "source": [
    "# классический  GD\n",
    "def gradient_descent(W, X, y, iterations, eta=1e-4):\n",
    "    n = X.shape[0]\n",
    "    \n",
    "    errors = []\n",
    "    w_list = [W.copy()]\n",
    "    for i in range(0, iterations):\n",
    "        y_pred = np.dot(X, W)\n",
    "        err = calc_mse(y, y_pred)\n",
    "        errors.append(err)\n",
    "        \n",
    "        dQ = 2/n * X.T @ (y_pred - y) # градиент функции ошибки\n",
    "        W -= (eta * dQ)\n",
    "        w_list.append(W.copy())\n",
    "        \n",
    "        if i % (iterations / 10) == 0:\n",
    "            print(f'Iter: {i}, error {err}')\n",
    "        \n",
    "    print(f'Final MSE: {calc_mse(y, np.dot(X, W))}')\n",
    "    return W, errors, w_list"
   ]
  },
  {
   "cell_type": "code",
   "execution_count": 17,
   "metadata": {},
   "outputs": [
    {
     "name": "stdout",
     "output_type": "stream",
     "text": [
      "Iter: 0, error 27955.867995557313\n",
      "Iter: 500, error 3714.3084851909184\n",
      "Iter: 1000, error 494.6354760832977\n",
      "Iter: 1500, error 66.71033502378174\n",
      "Iter: 2000, error 9.794882834599285\n",
      "Iter: 2500, error 2.2195751424747847\n",
      "Iter: 3000, error 1.2106028894182437\n",
      "Iter: 3500, error 1.076119701118425\n",
      "Iter: 4000, error 1.0581819756351332\n",
      "Iter: 4500, error 1.055787679131315\n",
      "Final MSE: 1.055467863232459\n",
      "CPU times: user 41.9 s, sys: 7.99 s, total: 49.9 s\n",
      "Wall time: 12.9 s\n"
     ]
    }
   ],
   "source": [
    "%%time\n",
    "weights_GD, errors_GD, w_list_GD = gradient_descent(init_W, X, Y, iterations=5000, eta=1e-3)"
   ]
  },
  {
   "cell_type": "code",
   "execution_count": 18,
   "metadata": {},
   "outputs": [
    {
     "name": "stdout",
     "output_type": "stream",
     "text": [
      "Iter: 0, error 27915.737438918863\n",
      "Iter: 500, error 3898.5326703951077\n",
      "Iter: 1000, error 679.1622380195024\n",
      "Iter: 1500, error 93.71616614148041\n",
      "Iter: 2000, error 12.985183772623488\n",
      "Iter: 2500, error 2.841423705723302\n",
      "Iter: 3000, error 1.3320673471104203\n",
      "Iter: 3500, error 1.116461094638179\n",
      "Iter: 4000, error 1.082505203787364\n",
      "Iter: 4500, error 1.0763940990913605\n",
      "Final MSE: 1.0709034114873026\n",
      "CPU times: user 14.4 s, sys: 1.28 s, total: 15.7 s\n",
      "Wall time: 3.49 s\n"
     ]
    }
   ],
   "source": [
    "%%time\n",
    "weights_SGD, errors_SGD, w_list_SGD = stohastic_gradient_descent(init_W2, X, Y, iterations=5000, eta=1e-3, size=1)"
   ]
  },
  {
   "cell_type": "code",
   "execution_count": 19,
   "metadata": {},
   "outputs": [
    {
     "data": {
      "text/plain": "<Figure size 432x288 with 1 Axes>",
      "image/png": "[encoded data removed]"
     },
     "metadata": {
      "needs_background": "light"
     },
     "output_type": "display_data"
    }
   ],
   "source": [
    "# Визуализируем изменение функционала ошибки\n",
    "plt.plot(range(len(errors_GD)), errors_GD, color='b', label='GD')\n",
    "plt.plot(range(len(errors_SGD)), errors_SGD, color='g', label='SGD')\n",
    "\n",
    "plt.title('MSE')\n",
    "plt.xlabel('Iteration number')\n",
    "plt.ylabel('MSE')\n",
    "plt.xlim(0, 1000)\n",
    "plt.legend();"
   ]
  },
  {
   "cell_type": "code",
   "execution_count": 20,
   "metadata": {},
   "outputs": [],
   "source": [
    "w_list_GD = np.array(w_list_GD)\n",
    "w_list_SGD = np.array(w_list_SGD)"
   ]
  },
  {
   "cell_type": "code",
   "execution_count": 21,
   "metadata": {},
   "outputs": [
    {
     "data": {
      "text/plain": "<Figure size 936x432 with 1 Axes>",
      "image/png": "[encoded data removed]"
     },
     "metadata": {
      "needs_background": "light"
     },
     "output_type": "display_data"
    }
   ],
   "source": [
    "# Визуализируем изменение весов (красной точкой обозначены истинные веса, сгенерированные вначале)\n",
    "plt.figure(figsize=(13, 6))\n",
    "plt.title('Compare SGD and GD')\n",
    "plt.xlabel(r'$w_1$')\n",
    "plt.ylabel(r'$w_2$')\n",
    "\n",
    "plt.scatter(w_list_GD[:, 0], w_list_GD[:, 1], color='b')\n",
    "plt.plot(w_list_GD[:, 0], w_list_GD[:, 1], color='b', label='GD')\n",
    "\n",
    "plt.scatter(w_list_SGD[:, 0], w_list_SGD[:, 1], color='g')\n",
    "plt.plot(w_list_SGD[:, 0], w_list_SGD[:, 1], color='g', label='SGD')\n",
    "plt.scatter(coef[0], coef[1], c='r')\n",
    "\n",
    "plt.legend()\n",
    "plt.show()"
   ]
  },
  {
   "cell_type": "code",
   "execution_count": 21,
   "outputs": [],
   "source": [],
   "metadata": {
    "collapsed": false
   }
  }
 ],
 "metadata": {
  "kernelspec": {
   "display_name": "Python 3",
   "language": "python",
   "name": "python3"
  },
  "language_info": {
   "codemirror_mode": {
    "name": "ipython",
    "version": 3
   },
   "file_extension": ".py",
   "mimetype": "text/x-python",
   "name": "python",
   "nbconvert_exporter": "python",
   "pygments_lexer": "ipython3",
   "version": "3.8.10"
  }
 },
 "nbformat": 4,
 "nbformat_minor": 2
}
